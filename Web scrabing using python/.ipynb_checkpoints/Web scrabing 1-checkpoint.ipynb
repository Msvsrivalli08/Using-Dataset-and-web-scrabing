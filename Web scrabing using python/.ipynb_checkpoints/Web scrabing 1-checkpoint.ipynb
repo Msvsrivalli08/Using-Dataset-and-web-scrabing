{
 "cells": [
  {
   "cell_type": "code",
   "execution_count": 1,
   "id": "2956ea1e-d3d2-4c15-858d-f98f84ec3c9b",
   "metadata": {},
   "outputs": [],
   "source": [
    "import requests"
   ]
  },
  {
   "cell_type": "code",
   "execution_count": 2,
   "id": "e2b0024a-1d32-4c93-864d-5045027fa08b",
   "metadata": {},
   "outputs": [],
   "source": [
    "import bs4"
   ]
  },
  {
   "cell_type": "code",
   "execution_count": 10,
   "id": "ab4bb071-55b9-4460-b07e-4676041b0769",
   "metadata": {},
   "outputs": [],
   "source": [
    "url=\"https://www.snapdeal.com/search?clickSrc=top_searches&keyword=kitchen%20product&categoryId=0&vertical=p&noOfResults=20&SRPID=topsearch&sort=rlvncy\""
   ]
  },
  {
   "cell_type": "code",
   "execution_count": 11,
   "id": "e32b8a96-81d0-49be-98a6-8d0eea85bc29",
   "metadata": {},
   "outputs": [
    {
     "data": {
      "text/plain": [
       "<Response [200]>"
      ]
     },
     "execution_count": 11,
     "metadata": {},
     "output_type": "execute_result"
    }
   ],
   "source": [
    "data=requests.get(url)\n",
    "data"
   ]
  },
  {
   "cell_type": "code",
   "execution_count": 12,
   "id": "9fbc66bc-5edf-428a-885c-90a8b1c3fc95",
   "metadata": {},
   "outputs": [
    {
     "data": {
      "text/plain": [
       "str"
      ]
     },
     "execution_count": 12,
     "metadata": {},
     "output_type": "execute_result"
    }
   ],
   "source": [
    "type(data.text)"
   ]
  },
  {
   "cell_type": "code",
   "execution_count": 13,
   "id": "3d40ac92-83ea-4ee6-ac88-07f7be8c8d7f",
   "metadata": {},
   "outputs": [],
   "source": [
    "from bs4 import BeautifulSoup"
   ]
  },
  {
   "cell_type": "code",
   "execution_count": 14,
   "id": "a584739c-34ea-46d0-a197-6118c8bb7856",
   "metadata": {},
   "outputs": [],
   "source": [
    "soup=BeautifulSoup(data.text,\"html\")"
   ]
  },
  {
   "cell_type": "code",
   "execution_count": 18,
   "id": "719dcd9c-7177-4de5-90a3-aff9d5dff7b3",
   "metadata": {},
   "outputs": [
    {
     "data": {
      "text/plain": [
       "'Dynore - Silver Stainless Steel Chimta, Pakkad, Tong ( Set of 3 )'"
      ]
     },
     "execution_count": 18,
     "metadata": {},
     "output_type": "execute_result"
    }
   ],
   "source": [
    "soup.find('p',attrs={\"class\":\"product-title\"}).text\n"
   ]
  },
  {
   "cell_type": "code",
   "execution_count": 19,
   "id": "58ef6fa4-4573-4678-bbaf-604c5606c58d",
   "metadata": {},
   "outputs": [
    {
     "data": {
      "text/plain": [
       "'Rs.  196'"
      ]
     },
     "execution_count": 19,
     "metadata": {},
     "output_type": "execute_result"
    }
   ],
   "source": [
    "soup.find('span',attrs={\"class\":\"lfloat product-price\"}).text"
   ]
  },
  {
   "cell_type": "code",
   "execution_count": 24,
   "id": "39675c5e-b8ec-42c0-81d2-f97e48bf9bbb",
   "metadata": {},
   "outputs": [
    {
     "data": {
      "text/plain": [
       "'\\n80% Off\\n'"
      ]
     },
     "execution_count": 24,
     "metadata": {},
     "output_type": "execute_result"
    }
   ],
   "source": [
    "soup.find('div',attrs={\"class\":\"product-discount\"}).text"
   ]
  },
  {
   "cell_type": "code",
   "execution_count": 23,
   "id": "1e18c08e-f99c-4527-9db1-bf6cb209f932",
   "metadata": {},
   "outputs": [
    {
     "data": {
      "text/plain": [
       "'\\n\\n\\n\\n\\n(36)\\n'"
      ]
     },
     "execution_count": 23,
     "metadata": {},
     "output_type": "execute_result"
    }
   ],
   "source": [
    "soup.find('p',attrs={\"class\":\"product-rating-count\"}).text"
   ]
  },
  {
   "cell_type": "code",
   "execution_count": null,
   "id": "083be376-f2f6-467a-88eb-87aa061db406",
   "metadata": {},
   "outputs": [],
   "source": []
  }
 ],
 "metadata": {
  "kernelspec": {
   "display_name": "Python 3 (ipykernel)",
   "language": "python",
   "name": "python3"
  },
  "language_info": {
   "codemirror_mode": {
    "name": "ipython",
    "version": 3
   },
   "file_extension": ".py",
   "mimetype": "text/x-python",
   "name": "python",
   "nbconvert_exporter": "python",
   "pygments_lexer": "ipython3",
   "version": "3.11.9"
  }
 },
 "nbformat": 4,
 "nbformat_minor": 5
}
