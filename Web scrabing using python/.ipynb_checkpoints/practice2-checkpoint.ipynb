{
 "cells": [
  {
   "cell_type": "code",
   "execution_count": 1,
   "id": "74181ae0-e0b9-4669-a9a5-71a6529d0d3b",
   "metadata": {},
   "outputs": [],
   "source": [
    "import requests"
   ]
  },
  {
   "cell_type": "code",
   "execution_count": 2,
   "id": "5e144f02-5972-4ed0-9376-353bacd9f26f",
   "metadata": {},
   "outputs": [],
   "source": [
    "import bs4"
   ]
  },
  {
   "cell_type": "code",
   "execution_count": 3,
   "id": "43703847-745f-4af3-8f9c-fd1f3fc51aff",
   "metadata": {},
   "outputs": [],
   "source": [
    "url=\"https://www.snapdeal.com/search?keyword=women%27s%20kurti&santizedKeyword=kitchen+product&catId=0&categoryId=0&suggested=true&vertical=p&noOfResults=20&searchState=&clickSrc=suggested&lastKeyword=&prodCatId=&changeBackToAll=true&foundInAll=false&categoryIdSearched=&cityPageUrl=&categoryUrl=ALL&url=&utmContent=&dealDetail=&sort=rlvncy\""
   ]
  },
  {
   "cell_type": "code",
   "execution_count": 4,
   "id": "bfa105eb-c221-4b3f-a5b1-bf655f087b3d",
   "metadata": {},
   "outputs": [
    {
     "data": {
      "text/plain": [
       "<Response [200]>"
      ]
     },
     "execution_count": 4,
     "metadata": {},
     "output_type": "execute_result"
    }
   ],
   "source": [
    "data=requests.get(url)\n",
    "data"
   ]
  },
  {
   "cell_type": "code",
   "execution_count": 5,
   "id": "389c37aa-8f82-4cd8-a02d-a50069270bd2",
   "metadata": {},
   "outputs": [
    {
     "data": {
      "text/plain": [
       "str"
      ]
     },
     "execution_count": 5,
     "metadata": {},
     "output_type": "execute_result"
    }
   ],
   "source": [
    "type(data.text)"
   ]
  },
  {
   "cell_type": "code",
   "execution_count": 6,
   "id": "3d022d65-85d9-4fc1-a803-f9ab504a1138",
   "metadata": {},
   "outputs": [],
   "source": [
    "from bs4 import BeautifulSoup"
   ]
  },
  {
   "cell_type": "code",
   "execution_count": 7,
   "id": "fec100a8-0191-445b-bf7c-c53ff1973bda",
   "metadata": {},
   "outputs": [],
   "source": [
    "soup=BeautifulSoup(data.text,\"html\")"
   ]
  },
  {
   "cell_type": "code",
   "execution_count": 8,
   "id": "93258804-de05-4af3-85a0-975cdcab0cf8",
   "metadata": {},
   "outputs": [
    {
     "data": {
      "text/plain": [
       "\"CARTSHOPY - Yellow Rayon Women's A-line Kurti ( Pack of 1 )\""
      ]
     },
     "execution_count": 8,
     "metadata": {},
     "output_type": "execute_result"
    }
   ],
   "source": [
    "soup.find('p',attrs={\"class\":\"product-title\"}).text"
   ]
  },
  {
   "cell_type": "code",
   "execution_count": 10,
   "id": "1c7038c7-6d68-4d3f-b0e3-b157d781d647",
   "metadata": {},
   "outputs": [
    {
     "data": {
      "text/plain": [
       "'Rs.  336'"
      ]
     },
     "execution_count": 10,
     "metadata": {},
     "output_type": "execute_result"
    }
   ],
   "source": [
    "soup.find('span',attrs={\"class\":\"lfloat product-price\"}).text"
   ]
  },
  {
   "cell_type": "code",
   "execution_count": null,
   "id": "7fa30969-5b7c-46f6-9e96-0bdaf325aa3e",
   "metadata": {},
   "outputs": [],
   "source": []
  }
 ],
 "metadata": {
  "kernelspec": {
   "display_name": "Python 3 (ipykernel)",
   "language": "python",
   "name": "python3"
  },
  "language_info": {
   "codemirror_mode": {
    "name": "ipython",
    "version": 3
   },
   "file_extension": ".py",
   "mimetype": "text/x-python",
   "name": "python",
   "nbconvert_exporter": "python",
   "pygments_lexer": "ipython3",
   "version": "3.11.9"
  }
 },
 "nbformat": 4,
 "nbformat_minor": 5
}
