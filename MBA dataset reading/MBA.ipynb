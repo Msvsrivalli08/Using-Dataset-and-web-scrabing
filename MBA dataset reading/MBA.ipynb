{
 "cells": [
  {
   "cell_type": "code",
   "execution_count": 1,
   "id": "f9a4035e-946f-4109-9b52-4414f61ca200",
   "metadata": {},
   "outputs": [],
   "source": [
    "import pandas as pd"
   ]
  },
  {
   "cell_type": "code",
   "execution_count": 2,
   "id": "67d59bbc-4a58-490a-96d4-11d62722a652",
   "metadata": {},
   "outputs": [
    {
     "data": {
      "text/html": [
       "<div>\n",
       "<style scoped>\n",
       "    .dataframe tbody tr th:only-of-type {\n",
       "        vertical-align: middle;\n",
       "    }\n",
       "\n",
       "    .dataframe tbody tr th {\n",
       "        vertical-align: top;\n",
       "    }\n",
       "\n",
       "    .dataframe thead th {\n",
       "        text-align: right;\n",
       "    }\n",
       "</style>\n",
       "<table border=\"1\" class=\"dataframe\">\n",
       "  <thead>\n",
       "    <tr style=\"text-align: right;\">\n",
       "      <th></th>\n",
       "      <th>application_id</th>\n",
       "      <th>gender</th>\n",
       "      <th>international</th>\n",
       "      <th>gpa</th>\n",
       "      <th>major</th>\n",
       "      <th>race</th>\n",
       "      <th>gmat</th>\n",
       "      <th>work_exp</th>\n",
       "      <th>work_industry</th>\n",
       "      <th>admission</th>\n",
       "    </tr>\n",
       "  </thead>\n",
       "  <tbody>\n",
       "    <tr>\n",
       "      <th>0</th>\n",
       "      <td>1</td>\n",
       "      <td>Female</td>\n",
       "      <td>False</td>\n",
       "      <td>3.30</td>\n",
       "      <td>Business</td>\n",
       "      <td>Asian</td>\n",
       "      <td>620.0</td>\n",
       "      <td>3.0</td>\n",
       "      <td>Financial Services</td>\n",
       "      <td>Admit</td>\n",
       "    </tr>\n",
       "    <tr>\n",
       "      <th>1</th>\n",
       "      <td>2</td>\n",
       "      <td>Male</td>\n",
       "      <td>False</td>\n",
       "      <td>3.28</td>\n",
       "      <td>Humanities</td>\n",
       "      <td>Black</td>\n",
       "      <td>680.0</td>\n",
       "      <td>5.0</td>\n",
       "      <td>Investment Management</td>\n",
       "      <td>NaN</td>\n",
       "    </tr>\n",
       "    <tr>\n",
       "      <th>2</th>\n",
       "      <td>3</td>\n",
       "      <td>Female</td>\n",
       "      <td>True</td>\n",
       "      <td>3.30</td>\n",
       "      <td>Business</td>\n",
       "      <td>NaN</td>\n",
       "      <td>710.0</td>\n",
       "      <td>5.0</td>\n",
       "      <td>Technology</td>\n",
       "      <td>Admit</td>\n",
       "    </tr>\n",
       "    <tr>\n",
       "      <th>3</th>\n",
       "      <td>4</td>\n",
       "      <td>Male</td>\n",
       "      <td>False</td>\n",
       "      <td>3.47</td>\n",
       "      <td>STEM</td>\n",
       "      <td>Black</td>\n",
       "      <td>690.0</td>\n",
       "      <td>6.0</td>\n",
       "      <td>Technology</td>\n",
       "      <td>NaN</td>\n",
       "    </tr>\n",
       "    <tr>\n",
       "      <th>4</th>\n",
       "      <td>5</td>\n",
       "      <td>Male</td>\n",
       "      <td>False</td>\n",
       "      <td>3.35</td>\n",
       "      <td>STEM</td>\n",
       "      <td>Hispanic</td>\n",
       "      <td>590.0</td>\n",
       "      <td>5.0</td>\n",
       "      <td>Consulting</td>\n",
       "      <td>NaN</td>\n",
       "    </tr>\n",
       "    <tr>\n",
       "      <th>...</th>\n",
       "      <td>...</td>\n",
       "      <td>...</td>\n",
       "      <td>...</td>\n",
       "      <td>...</td>\n",
       "      <td>...</td>\n",
       "      <td>...</td>\n",
       "      <td>...</td>\n",
       "      <td>...</td>\n",
       "      <td>...</td>\n",
       "      <td>...</td>\n",
       "    </tr>\n",
       "    <tr>\n",
       "      <th>6189</th>\n",
       "      <td>6190</td>\n",
       "      <td>Male</td>\n",
       "      <td>False</td>\n",
       "      <td>3.49</td>\n",
       "      <td>Business</td>\n",
       "      <td>White</td>\n",
       "      <td>640.0</td>\n",
       "      <td>5.0</td>\n",
       "      <td>Other</td>\n",
       "      <td>NaN</td>\n",
       "    </tr>\n",
       "    <tr>\n",
       "      <th>6190</th>\n",
       "      <td>6191</td>\n",
       "      <td>Male</td>\n",
       "      <td>False</td>\n",
       "      <td>3.18</td>\n",
       "      <td>STEM</td>\n",
       "      <td>Black</td>\n",
       "      <td>670.0</td>\n",
       "      <td>4.0</td>\n",
       "      <td>Consulting</td>\n",
       "      <td>NaN</td>\n",
       "    </tr>\n",
       "    <tr>\n",
       "      <th>6191</th>\n",
       "      <td>6192</td>\n",
       "      <td>Female</td>\n",
       "      <td>True</td>\n",
       "      <td>3.22</td>\n",
       "      <td>Business</td>\n",
       "      <td>NaN</td>\n",
       "      <td>680.0</td>\n",
       "      <td>5.0</td>\n",
       "      <td>Health Care</td>\n",
       "      <td>Admit</td>\n",
       "    </tr>\n",
       "    <tr>\n",
       "      <th>6192</th>\n",
       "      <td>6193</td>\n",
       "      <td>Male</td>\n",
       "      <td>True</td>\n",
       "      <td>3.36</td>\n",
       "      <td>Business</td>\n",
       "      <td>NaN</td>\n",
       "      <td>590.0</td>\n",
       "      <td>5.0</td>\n",
       "      <td>Other</td>\n",
       "      <td>NaN</td>\n",
       "    </tr>\n",
       "    <tr>\n",
       "      <th>6193</th>\n",
       "      <td>6194</td>\n",
       "      <td>Male</td>\n",
       "      <td>False</td>\n",
       "      <td>3.23</td>\n",
       "      <td>STEM</td>\n",
       "      <td>Hispanic</td>\n",
       "      <td>650.0</td>\n",
       "      <td>4.0</td>\n",
       "      <td>Consulting</td>\n",
       "      <td>NaN</td>\n",
       "    </tr>\n",
       "  </tbody>\n",
       "</table>\n",
       "<p>6194 rows × 10 columns</p>\n",
       "</div>"
      ],
      "text/plain": [
       "      application_id  gender  international   gpa       major      race  \\\n",
       "0                  1  Female          False  3.30    Business     Asian   \n",
       "1                  2    Male          False  3.28  Humanities     Black   \n",
       "2                  3  Female           True  3.30    Business       NaN   \n",
       "3                  4    Male          False  3.47        STEM     Black   \n",
       "4                  5    Male          False  3.35        STEM  Hispanic   \n",
       "...              ...     ...            ...   ...         ...       ...   \n",
       "6189            6190    Male          False  3.49    Business     White   \n",
       "6190            6191    Male          False  3.18        STEM     Black   \n",
       "6191            6192  Female           True  3.22    Business       NaN   \n",
       "6192            6193    Male           True  3.36    Business       NaN   \n",
       "6193            6194    Male          False  3.23        STEM  Hispanic   \n",
       "\n",
       "       gmat  work_exp          work_industry admission  \n",
       "0     620.0       3.0     Financial Services     Admit  \n",
       "1     680.0       5.0  Investment Management       NaN  \n",
       "2     710.0       5.0             Technology     Admit  \n",
       "3     690.0       6.0             Technology       NaN  \n",
       "4     590.0       5.0             Consulting       NaN  \n",
       "...     ...       ...                    ...       ...  \n",
       "6189  640.0       5.0                  Other       NaN  \n",
       "6190  670.0       4.0             Consulting       NaN  \n",
       "6191  680.0       5.0            Health Care     Admit  \n",
       "6192  590.0       5.0                  Other       NaN  \n",
       "6193  650.0       4.0             Consulting       NaN  \n",
       "\n",
       "[6194 rows x 10 columns]"
      ]
     },
     "execution_count": 2,
     "metadata": {},
     "output_type": "execute_result"
    }
   ],
   "source": [
    "data=pd.read_csv(\"MBA.csv\")\n",
    "data"
   ]
  },
  {
   "cell_type": "code",
   "execution_count": 3,
   "id": "3fe6123c-8ef1-4948-b21d-59dcd1f6923c",
   "metadata": {},
   "outputs": [
    {
     "data": {
      "text/plain": [
       "Index(['application_id', 'gender', 'international', 'gpa', 'major', 'race',\n",
       "       'gmat', 'work_exp', 'work_industry', 'admission'],\n",
       "      dtype='object')"
      ]
     },
     "execution_count": 3,
     "metadata": {},
     "output_type": "execute_result"
    }
   ],
   "source": [
    "data.columns"
   ]
  },
  {
   "cell_type": "code",
   "execution_count": 4,
   "id": "a0ca9cc9-f501-4ed6-81d1-7593e82d8816",
   "metadata": {},
   "outputs": [
    {
     "data": {
      "text/plain": [
       "(6194, 10)"
      ]
     },
     "execution_count": 4,
     "metadata": {},
     "output_type": "execute_result"
    }
   ],
   "source": [
    "data.shape"
   ]
  },
  {
   "cell_type": "code",
   "execution_count": 5,
   "id": "792216c3-b842-45b0-abf4-99d1b8fff480",
   "metadata": {},
   "outputs": [
    {
     "data": {
      "text/plain": [
       "<bound method DataFrame.info of       application_id  gender  international   gpa       major      race  \\\n",
       "0                  1  Female          False  3.30    Business     Asian   \n",
       "1                  2    Male          False  3.28  Humanities     Black   \n",
       "2                  3  Female           True  3.30    Business       NaN   \n",
       "3                  4    Male          False  3.47        STEM     Black   \n",
       "4                  5    Male          False  3.35        STEM  Hispanic   \n",
       "...              ...     ...            ...   ...         ...       ...   \n",
       "6189            6190    Male          False  3.49    Business     White   \n",
       "6190            6191    Male          False  3.18        STEM     Black   \n",
       "6191            6192  Female           True  3.22    Business       NaN   \n",
       "6192            6193    Male           True  3.36    Business       NaN   \n",
       "6193            6194    Male          False  3.23        STEM  Hispanic   \n",
       "\n",
       "       gmat  work_exp          work_industry admission  \n",
       "0     620.0       3.0     Financial Services     Admit  \n",
       "1     680.0       5.0  Investment Management       NaN  \n",
       "2     710.0       5.0             Technology     Admit  \n",
       "3     690.0       6.0             Technology       NaN  \n",
       "4     590.0       5.0             Consulting       NaN  \n",
       "...     ...       ...                    ...       ...  \n",
       "6189  640.0       5.0                  Other       NaN  \n",
       "6190  670.0       4.0             Consulting       NaN  \n",
       "6191  680.0       5.0            Health Care     Admit  \n",
       "6192  590.0       5.0                  Other       NaN  \n",
       "6193  650.0       4.0             Consulting       NaN  \n",
       "\n",
       "[6194 rows x 10 columns]>"
      ]
     },
     "execution_count": 5,
     "metadata": {},
     "output_type": "execute_result"
    }
   ],
   "source": [
    "data.info"
   ]
  },
  {
   "cell_type": "code",
   "execution_count": 6,
   "id": "78344966-0d24-44fd-bf9e-6c384eb3927d",
   "metadata": {},
   "outputs": [
    {
     "data": {
      "text/plain": [
       "0       3.30\n",
       "1       3.28\n",
       "2       3.30\n",
       "3       3.47\n",
       "4       3.35\n",
       "        ... \n",
       "6189    3.49\n",
       "6190    3.18\n",
       "6191    3.22\n",
       "6192    3.36\n",
       "6193    3.23\n",
       "Name: gpa, Length: 6194, dtype: float64"
      ]
     },
     "execution_count": 6,
     "metadata": {},
     "output_type": "execute_result"
    }
   ],
   "source": [
    "data[\"gpa\"]"
   ]
  },
  {
   "cell_type": "code",
   "execution_count": 7,
   "id": "937158ef-83bd-4c5d-958e-f0e1e1bd19a5",
   "metadata": {},
   "outputs": [],
   "source": [
    "from matplotlib import pyplot as plt"
   ]
  },
  {
   "cell_type": "code",
   "execution_count": 8,
   "id": "0379a559-5f9b-4306-9c52-3d7ef6306599",
   "metadata": {},
   "outputs": [
    {
     "data": {
      "image/png": "[encoded data removed]",
      "text/plain": [
       "<Figure size 640x480 with 1 Axes>"
      ]
     },
     "metadata": {},
     "output_type": "display_data"
    }
   ],
   "source": [
    "plt.hist(data[\"gpa\"])\n",
    "plt.show()"
   ]
  },
  {
   "cell_type": "code",
   "execution_count": 9,
   "id": "30dee9d0-1122-453e-90ba-02e5a4b10c6c",
   "metadata": {},
   "outputs": [
    {
     "data": {
      "text/html": [
       "<div>\n",
       "<style scoped>\n",
       "    .dataframe tbody tr th:only-of-type {\n",
       "        vertical-align: middle;\n",
       "    }\n",
       "\n",
       "    .dataframe tbody tr th {\n",
       "        vertical-align: top;\n",
       "    }\n",
       "\n",
       "    .dataframe thead th {\n",
       "        text-align: right;\n",
       "    }\n",
       "</style>\n",
       "<table border=\"1\" class=\"dataframe\">\n",
       "  <thead>\n",
       "    <tr style=\"text-align: right;\">\n",
       "      <th></th>\n",
       "      <th>application_id</th>\n",
       "      <th>gpa</th>\n",
       "      <th>race</th>\n",
       "      <th>gmat</th>\n",
       "      <th>work_industry</th>\n",
       "    </tr>\n",
       "  </thead>\n",
       "  <tbody>\n",
       "    <tr>\n",
       "      <th>0</th>\n",
       "      <td>1</td>\n",
       "      <td>3.30</td>\n",
       "      <td>Asian</td>\n",
       "      <td>620.0</td>\n",
       "      <td>Financial Services</td>\n",
       "    </tr>\n",
       "    <tr>\n",
       "      <th>1</th>\n",
       "      <td>2</td>\n",
       "      <td>3.28</td>\n",
       "      <td>Black</td>\n",
       "      <td>680.0</td>\n",
       "      <td>Investment Management</td>\n",
       "    </tr>\n",
       "    <tr>\n",
       "      <th>2</th>\n",
       "      <td>3</td>\n",
       "      <td>3.30</td>\n",
       "      <td>NaN</td>\n",
       "      <td>710.0</td>\n",
       "      <td>Technology</td>\n",
       "    </tr>\n",
       "    <tr>\n",
       "      <th>3</th>\n",
       "      <td>4</td>\n",
       "      <td>3.47</td>\n",
       "      <td>Black</td>\n",
       "      <td>690.0</td>\n",
       "      <td>Technology</td>\n",
       "    </tr>\n",
       "    <tr>\n",
       "      <th>4</th>\n",
       "      <td>5</td>\n",
       "      <td>3.35</td>\n",
       "      <td>Hispanic</td>\n",
       "      <td>590.0</td>\n",
       "      <td>Consulting</td>\n",
       "    </tr>\n",
       "    <tr>\n",
       "      <th>...</th>\n",
       "      <td>...</td>\n",
       "      <td>...</td>\n",
       "      <td>...</td>\n",
       "      <td>...</td>\n",
       "      <td>...</td>\n",
       "    </tr>\n",
       "    <tr>\n",
       "      <th>6189</th>\n",
       "      <td>6190</td>\n",
       "      <td>3.49</td>\n",
       "      <td>White</td>\n",
       "      <td>640.0</td>\n",
       "      <td>Other</td>\n",
       "    </tr>\n",
       "    <tr>\n",
       "      <th>6190</th>\n",
       "      <td>6191</td>\n",
       "      <td>3.18</td>\n",
       "      <td>Black</td>\n",
       "      <td>670.0</td>\n",
       "      <td>Consulting</td>\n",
       "    </tr>\n",
       "    <tr>\n",
       "      <th>6191</th>\n",
       "      <td>6192</td>\n",
       "      <td>3.22</td>\n",
       "      <td>NaN</td>\n",
       "      <td>680.0</td>\n",
       "      <td>Health Care</td>\n",
       "    </tr>\n",
       "    <tr>\n",
       "      <th>6192</th>\n",
       "      <td>6193</td>\n",
       "      <td>3.36</td>\n",
       "      <td>NaN</td>\n",
       "      <td>590.0</td>\n",
       "      <td>Other</td>\n",
       "    </tr>\n",
       "    <tr>\n",
       "      <th>6193</th>\n",
       "      <td>6194</td>\n",
       "      <td>3.23</td>\n",
       "      <td>Hispanic</td>\n",
       "      <td>650.0</td>\n",
       "      <td>Consulting</td>\n",
       "    </tr>\n",
       "  </tbody>\n",
       "</table>\n",
       "<p>6194 rows × 5 columns</p>\n",
       "</div>"
      ],
      "text/plain": [
       "      application_id   gpa      race   gmat          work_industry\n",
       "0                  1  3.30     Asian  620.0     Financial Services\n",
       "1                  2  3.28     Black  680.0  Investment Management\n",
       "2                  3  3.30       NaN  710.0             Technology\n",
       "3                  4  3.47     Black  690.0             Technology\n",
       "4                  5  3.35  Hispanic  590.0             Consulting\n",
       "...              ...   ...       ...    ...                    ...\n",
       "6189            6190  3.49     White  640.0                  Other\n",
       "6190            6191  3.18     Black  670.0             Consulting\n",
       "6191            6192  3.22       NaN  680.0            Health Care\n",
       "6192            6193  3.36       NaN  590.0                  Other\n",
       "6193            6194  3.23  Hispanic  650.0             Consulting\n",
       "\n",
       "[6194 rows x 5 columns]"
      ]
     },
     "execution_count": 9,
     "metadata": {},
     "output_type": "execute_result"
    }
   ],
   "source": [
    "data.drop(columns=[\"gender\",\"international\",\"major\",\"major\",\"work_exp\",\"admission\"],inplace=True)\n",
    "data"
   ]
  },
  {
   "cell_type": "code",
   "execution_count": 10,
   "id": "ed5696b7-e657-48ef-9a87-339148c8df31",
   "metadata": {},
   "outputs": [
    {
     "data": {
      "text/plain": [
       "<Axes: ylabel='Frequency'>"
      ]
     },
     "execution_count": 10,
     "metadata": {},
     "output_type": "execute_result"
    },
    {
     "data": {
      "image/png": "[encoded data removed]",
      "text/plain": [
       "<Figure size 640x480 with 1 Axes>"
      ]
     },
     "metadata": {},
     "output_type": "display_data"
    }
   ],
   "source": [
    "data[\"gmat\"].value_counts().plot(kind=\"hist\")"
   ]
  },
  {
   "cell_type": "code",
   "execution_count": 11,
   "id": "09858f64-0d3d-4915-ad10-7862d3dd9605",
   "metadata": {},
   "outputs": [
    {
     "data": {
      "text/plain": [
       "<Axes: xlabel='gpa'>"
      ]
     },
     "execution_count": 11,
     "metadata": {},
     "output_type": "execute_result"
    },
    {
     "data": {
      "image/png": "[encoded data removed]",
      "text/plain": [
       "<Figure size 640x480 with 1 Axes>"
      ]
     },
     "metadata": {},
     "output_type": "display_data"
    }
   ],
   "source": [
    "data[\"gpa\"].value_counts().plot(kind=\"bar\")"
   ]
  },
  {
   "cell_type": "code",
   "execution_count": 12,
   "id": "fad1535c-16ce-4e18-ac84-0f15fb440f29",
   "metadata": {},
   "outputs": [
    {
     "data": {
      "text/plain": [
       "<Axes: ylabel='count'>"
      ]
     },
     "execution_count": 12,
     "metadata": {},
     "output_type": "execute_result"
    },
    {
     "data": {
      "image/png": "[encoded data removed]",
      "text/plain": [
       "<Figure size 640x480 with 1 Axes>"
      ]
     },
     "metadata": {},
     "output_type": "display_data"
    }
   ],
   "source": [
    "data[\"work_industry\"].value_counts().plot(kind=\"pie\")"
   ]
  },
  {
   "cell_type": "code",
   "execution_count": null,
   "id": "70e7d51e-45fd-4697-b5c9-55f36b8ec959",
   "metadata": {},
   "outputs": [],
   "source": []
  }
 ],
 "metadata": {
  "kernelspec": {
   "display_name": "Python 3 (ipykernel)",
   "language": "python",
   "name": "python3"
  },
  "language_info": {
   "codemirror_mode": {
    "name": "ipython",
    "version": 3
   },
   "file_extension": ".py",
   "mimetype": "text/x-python",
   "name": "python",
   "nbconvert_exporter": "python",
   "pygments_lexer": "ipython3",
   "version": "3.11.9"
  }
 },
 "nbformat": 4,
 "nbformat_minor": 5
}
